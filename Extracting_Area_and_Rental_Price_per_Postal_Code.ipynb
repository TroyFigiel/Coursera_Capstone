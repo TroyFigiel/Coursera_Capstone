{
 "cells": [
  {
   "cell_type": "markdown",
   "metadata": {},
   "source": [
    "# We first import the modules we will need"
   ]
  },
  {
   "cell_type": "code",
   "execution_count": 22,
   "metadata": {},
   "outputs": [
    {
     "name": "stdout",
     "output_type": "stream",
     "text": [
      "Import succesful!\n"
     ]
    }
   ],
   "source": [
    "import json\n",
    "\n",
    "import pandas as pd\n",
    "\n",
    "from bs4 import BeautifulSoup\n",
    "\n",
    "import pyproj\n",
    "\n",
    "from functools import partial\n",
    "\n",
    "import shapely.ops as ops\n",
    "from shapely.geometry.polygon import Polygon\n",
    "from shapely.geometry.point import Point\n",
    "\n",
    "print(\"Import succesful!\")"
   ]
  },
  {
   "cell_type": "markdown",
   "metadata": {},
   "source": [
    "# Calculating the area per postal code"
   ]
  },
  {
   "cell_type": "markdown",
   "metadata": {},
   "source": [
    "Using the data from https://public.opendatasoft.com/explore/dataset/postleitzahlen-deutschland/table/?refine.note=Hamburg which we saved as 'Postal_Codes_Coordinates_Hamburg.geojson' we are able to calculate the area (km^2) each postal code covers."
   ]
  },
  {
   "cell_type": "code",
   "execution_count": 23,
   "metadata": {},
   "outputs": [],
   "source": [
    "def calculate_area(coordinates):\n",
    "    \"\"\"\n",
    "calculate_area(coordinates)\n",
    "    \n",
    "    Calculates the total area of a polygon on Earth.\n",
    "    \n",
    "    Parameters\n",
    "    ----------\n",
    "    coordinates: array of int\n",
    "        A set of latitude and longitude coordinates for each vertex of the polygon in geojson format\n",
    "    \n",
    "    Returns\n",
    "    -------\n",
    "    float\n",
    "        Area in km^2 of the polygon in the EPSG 4326 coordinate system.\n",
    "        \n",
    "    \"\"\"\n",
    "    \n",
    "    polygons = [Polygon(coordinates[i]) for i in range(len(coordinates))]\n",
    "    polygons_transformed = []\n",
    "    \n",
    "    for i in range(len(coordinates)):\n",
    "        project_in = pyproj.Proj(init='EPSG:4326')\n",
    "        project_out = pyproj.Proj(proj='aea', lat_1=polygons[i].bounds[1], lat_2=polygons[i].bounds[3])\n",
    "\n",
    "        projection = partial(pyproj.transform, project_in, project_out)\n",
    "\n",
    "        polygons_transformed.append(ops.transform(projection, polygons[i]))\n",
    "    \n",
    "    polygons_area = [polygons_transformed[i].area for i in range(len(coordinates))]\n",
    "    \n",
    "    total_area = polygons_area[0] - sum(polygons_area[1:])\n",
    "    \n",
    "    return total_area*1e-6"
   ]
  },
  {
   "cell_type": "code",
   "execution_count": 24,
   "metadata": {},
   "outputs": [],
   "source": [
    "with open('Postal_Codes_Coordinates_Hamburg.geojson') as file:\n",
    "    geography = json.load(file)\n",
    "        \n",
    "base = geography['features']"
   ]
  },
  {
   "cell_type": "code",
   "execution_count": 25,
   "metadata": {},
   "outputs": [],
   "source": [
    "# For the coordinates we extracted from the 'Postal_Codes_Coordinates_Hamburg.geojson' file, we calculate the area.\n",
    "area_df = pd.DataFrame(columns=['Postal_Code', 'Area'])\n",
    "\n",
    "for i in range(len(base)):\n",
    "    coordinates = base[i]['geometry']['coordinates']\n",
    "    area = calculate_area(coordinates)\n",
    "               \n",
    "    postal_code = base[i]['properties']['plz']\n",
    "               \n",
    "    area_df = area_df.append(pd.DataFrame([[postal_code, area]], columns=['Postal_Code', 'Area']), ignore_index=True)"
   ]
  },
  {
   "cell_type": "code",
   "execution_count": 26,
   "metadata": {},
   "outputs": [
    {
     "data": {
      "text/html": [
       "<div>\n",
       "<style scoped>\n",
       "    .dataframe tbody tr th:only-of-type {\n",
       "        vertical-align: middle;\n",
       "    }\n",
       "\n",
       "    .dataframe tbody tr th {\n",
       "        vertical-align: top;\n",
       "    }\n",
       "\n",
       "    .dataframe thead th {\n",
       "        text-align: right;\n",
       "    }\n",
       "</style>\n",
       "<table border=\"1\" class=\"dataframe\">\n",
       "  <thead>\n",
       "    <tr style=\"text-align: right;\">\n",
       "      <th></th>\n",
       "      <th>Postal_Code</th>\n",
       "      <th>Area</th>\n",
       "    </tr>\n",
       "  </thead>\n",
       "  <tbody>\n",
       "    <tr>\n",
       "      <th>0</th>\n",
       "      <td>22763</td>\n",
       "      <td>2.529803</td>\n",
       "    </tr>\n",
       "    <tr>\n",
       "      <th>1</th>\n",
       "      <td>22301</td>\n",
       "      <td>1.282740</td>\n",
       "    </tr>\n",
       "    <tr>\n",
       "      <th>2</th>\n",
       "      <td>22455</td>\n",
       "      <td>5.012461</td>\n",
       "    </tr>\n",
       "    <tr>\n",
       "      <th>3</th>\n",
       "      <td>22145</td>\n",
       "      <td>27.882760</td>\n",
       "    </tr>\n",
       "    <tr>\n",
       "      <th>4</th>\n",
       "      <td>22339</td>\n",
       "      <td>5.160678</td>\n",
       "    </tr>\n",
       "    <tr>\n",
       "      <th>...</th>\n",
       "      <td>...</td>\n",
       "      <td>...</td>\n",
       "    </tr>\n",
       "    <tr>\n",
       "      <th>100</th>\n",
       "      <td>21029</td>\n",
       "      <td>6.462843</td>\n",
       "    </tr>\n",
       "    <tr>\n",
       "      <th>101</th>\n",
       "      <td>21039</td>\n",
       "      <td>54.834955</td>\n",
       "    </tr>\n",
       "    <tr>\n",
       "      <th>102</th>\n",
       "      <td>20146</td>\n",
       "      <td>0.940159</td>\n",
       "    </tr>\n",
       "    <tr>\n",
       "      <th>103</th>\n",
       "      <td>22299</td>\n",
       "      <td>1.285978</td>\n",
       "    </tr>\n",
       "    <tr>\n",
       "      <th>104</th>\n",
       "      <td>20355</td>\n",
       "      <td>1.113452</td>\n",
       "    </tr>\n",
       "  </tbody>\n",
       "</table>\n",
       "<p>105 rows × 2 columns</p>\n",
       "</div>"
      ],
      "text/plain": [
       "    Postal_Code       Area\n",
       "0         22763   2.529803\n",
       "1         22301   1.282740\n",
       "2         22455   5.012461\n",
       "3         22145  27.882760\n",
       "4         22339   5.160678\n",
       "..          ...        ...\n",
       "100       21029   6.462843\n",
       "101       21039  54.834955\n",
       "102       20146   0.940159\n",
       "103       22299   1.285978\n",
       "104       20355   1.113452\n",
       "\n",
       "[105 rows x 2 columns]"
      ]
     },
     "execution_count": 26,
     "metadata": {},
     "output_type": "execute_result"
    }
   ],
   "source": [
    "area_df"
   ]
  },
  {
   "cell_type": "markdown",
   "metadata": {},
   "source": [
    "It should be noted that some postal codes appear more than once in this dataframe. To solve this problem, we simply sum up the areas of the postal codes that appear more than once. This point is not highly relevant, because if a postal code appears more than once, one appearance accounts for at least ~90% of the area."
   ]
  },
  {
   "cell_type": "code",
   "execution_count": 30,
   "metadata": {},
   "outputs": [],
   "source": [
    "area_df = area_df.groupby('Postal_Code').sum().reset_index()"
   ]
  },
  {
   "cell_type": "code",
   "execution_count": 31,
   "metadata": {},
   "outputs": [
    {
     "data": {
      "text/html": [
       "<div>\n",
       "<style scoped>\n",
       "    .dataframe tbody tr th:only-of-type {\n",
       "        vertical-align: middle;\n",
       "    }\n",
       "\n",
       "    .dataframe tbody tr th {\n",
       "        vertical-align: top;\n",
       "    }\n",
       "\n",
       "    .dataframe thead th {\n",
       "        text-align: right;\n",
       "    }\n",
       "</style>\n",
       "<table border=\"1\" class=\"dataframe\">\n",
       "  <thead>\n",
       "    <tr style=\"text-align: right;\">\n",
       "      <th></th>\n",
       "      <th>Postal_Code</th>\n",
       "      <th>Area</th>\n",
       "    </tr>\n",
       "  </thead>\n",
       "  <tbody>\n",
       "    <tr>\n",
       "      <th>0</th>\n",
       "      <td>20095</td>\n",
       "      <td>0.759284</td>\n",
       "    </tr>\n",
       "    <tr>\n",
       "      <th>1</th>\n",
       "      <td>20097</td>\n",
       "      <td>1.968939</td>\n",
       "    </tr>\n",
       "    <tr>\n",
       "      <th>2</th>\n",
       "      <td>20099</td>\n",
       "      <td>1.589162</td>\n",
       "    </tr>\n",
       "    <tr>\n",
       "      <th>3</th>\n",
       "      <td>20144</td>\n",
       "      <td>0.931352</td>\n",
       "    </tr>\n",
       "    <tr>\n",
       "      <th>4</th>\n",
       "      <td>20146</td>\n",
       "      <td>0.940159</td>\n",
       "    </tr>\n",
       "    <tr>\n",
       "      <th>...</th>\n",
       "      <td>...</td>\n",
       "      <td>...</td>\n",
       "    </tr>\n",
       "    <tr>\n",
       "      <th>94</th>\n",
       "      <td>22761</td>\n",
       "      <td>3.720915</td>\n",
       "    </tr>\n",
       "    <tr>\n",
       "      <th>95</th>\n",
       "      <td>22763</td>\n",
       "      <td>2.529803</td>\n",
       "    </tr>\n",
       "    <tr>\n",
       "      <th>96</th>\n",
       "      <td>22765</td>\n",
       "      <td>2.193986</td>\n",
       "    </tr>\n",
       "    <tr>\n",
       "      <th>97</th>\n",
       "      <td>22767</td>\n",
       "      <td>2.608677</td>\n",
       "    </tr>\n",
       "    <tr>\n",
       "      <th>98</th>\n",
       "      <td>22769</td>\n",
       "      <td>1.552366</td>\n",
       "    </tr>\n",
       "  </tbody>\n",
       "</table>\n",
       "<p>99 rows × 2 columns</p>\n",
       "</div>"
      ],
      "text/plain": [
       "   Postal_Code      Area\n",
       "0        20095  0.759284\n",
       "1        20097  1.968939\n",
       "2        20099  1.589162\n",
       "3        20144  0.931352\n",
       "4        20146  0.940159\n",
       "..         ...       ...\n",
       "94       22761  3.720915\n",
       "95       22763  2.529803\n",
       "96       22765  2.193986\n",
       "97       22767  2.608677\n",
       "98       22769  1.552366\n",
       "\n",
       "[99 rows x 2 columns]"
      ]
     },
     "execution_count": 31,
     "metadata": {},
     "output_type": "execute_result"
    }
   ],
   "source": [
    "area_df"
   ]
  },
  {
   "cell_type": "code",
   "execution_count": 32,
   "metadata": {},
   "outputs": [],
   "source": [
    "# We save the dataframe as a csv file.\n",
    "area_df.to_csv('Area_Postal_Codes_Hamburg.csv', index=False)"
   ]
  },
  {
   "cell_type": "markdown",
   "metadata": {},
   "source": [
    "# Extracting the rental price per m^2 for every postal code"
   ]
  },
  {
   "cell_type": "markdown",
   "metadata": {},
   "source": [
    "We found the rental prices per square metre on https://www.miet-check.de/mietpreise/plz/hamburg/1126/. We have saved the information on this webpage as 'Rental_Prices_Hamburg.html'. We use BeautifulSoup to extract the information on this page."
   ]
  },
  {
   "cell_type": "code",
   "execution_count": 40,
   "metadata": {},
   "outputs": [],
   "source": [
    "with open('Rental_Prices_Hamburg.html','r') as html:\n",
    "    soup = BeautifulSoup(html)"
   ]
  },
  {
   "cell_type": "code",
   "execution_count": 41,
   "metadata": {},
   "outputs": [],
   "source": [
    "# We set up an empty dataframe and extract the data from the webpage into the dataframe.\n",
    "rental_prices_df = pd.DataFrame(columns=['Postal_Code', 'Rental_Price'])\n",
    "\n",
    "for i in range(int(len(soup.find_all('td'))/5)):\n",
    "    postal_code = int(soup.find_all('td')[5*i + 1].a.string)\n",
    "    rental_price = float(soup.find_all('td')[5*i + 2].string[:-5])\n",
    "    \n",
    "    rental_prices_df = rental_prices_df.append(\n",
    "        pd.DataFrame([[postal_code, rental_price]], columns=['Postal_Code', 'Rental_Price']),\n",
    "        ignore_index=True\n",
    "    )"
   ]
  },
  {
   "cell_type": "code",
   "execution_count": 42,
   "metadata": {},
   "outputs": [
    {
     "data": {
      "text/plain": [
       "22111    2\n",
       "21035    2\n",
       "20253    2\n",
       "21031    2\n",
       "21073    2\n",
       "        ..\n",
       "22399    1\n",
       "22765    1\n",
       "22525    1\n",
       "22607    1\n",
       "22529    1\n",
       "Name: Postal_Code, Length: 101, dtype: int64"
      ]
     },
     "execution_count": 42,
     "metadata": {},
     "output_type": "execute_result"
    }
   ],
   "source": [
    "rental_prices_df['Postal_Code'].value_counts()"
   ]
  },
  {
   "cell_type": "markdown",
   "metadata": {},
   "source": [
    "Unfortunately, it seems certain postal codes appear more than once. The good news is that we can simply remove these postal codes by dropping duplicates."
   ]
  },
  {
   "cell_type": "code",
   "execution_count": 43,
   "metadata": {},
   "outputs": [],
   "source": [
    "rental_prices_df.drop_duplicates(ignore_index=True, inplace=True)"
   ]
  },
  {
   "cell_type": "code",
   "execution_count": 44,
   "metadata": {},
   "outputs": [
    {
     "data": {
      "text/html": [
       "<div>\n",
       "<style scoped>\n",
       "    .dataframe tbody tr th:only-of-type {\n",
       "        vertical-align: middle;\n",
       "    }\n",
       "\n",
       "    .dataframe tbody tr th {\n",
       "        vertical-align: top;\n",
       "    }\n",
       "\n",
       "    .dataframe thead th {\n",
       "        text-align: right;\n",
       "    }\n",
       "</style>\n",
       "<table border=\"1\" class=\"dataframe\">\n",
       "  <thead>\n",
       "    <tr style=\"text-align: right;\">\n",
       "      <th></th>\n",
       "      <th>Postal_Code</th>\n",
       "      <th>Rental_Price</th>\n",
       "    </tr>\n",
       "  </thead>\n",
       "  <tbody>\n",
       "    <tr>\n",
       "      <th>0</th>\n",
       "      <td>20038</td>\n",
       "      <td>13.26</td>\n",
       "    </tr>\n",
       "    <tr>\n",
       "      <th>1</th>\n",
       "      <td>20095</td>\n",
       "      <td>20.35</td>\n",
       "    </tr>\n",
       "    <tr>\n",
       "      <th>2</th>\n",
       "      <td>20097</td>\n",
       "      <td>15.55</td>\n",
       "    </tr>\n",
       "    <tr>\n",
       "      <th>3</th>\n",
       "      <td>20099</td>\n",
       "      <td>15.93</td>\n",
       "    </tr>\n",
       "    <tr>\n",
       "      <th>4</th>\n",
       "      <td>20144</td>\n",
       "      <td>18.45</td>\n",
       "    </tr>\n",
       "    <tr>\n",
       "      <th>...</th>\n",
       "      <td>...</td>\n",
       "      <td>...</td>\n",
       "    </tr>\n",
       "    <tr>\n",
       "      <th>96</th>\n",
       "      <td>22761</td>\n",
       "      <td>13.68</td>\n",
       "    </tr>\n",
       "    <tr>\n",
       "      <th>97</th>\n",
       "      <td>22763</td>\n",
       "      <td>14.75</td>\n",
       "    </tr>\n",
       "    <tr>\n",
       "      <th>98</th>\n",
       "      <td>22765</td>\n",
       "      <td>16.26</td>\n",
       "    </tr>\n",
       "    <tr>\n",
       "      <th>99</th>\n",
       "      <td>22767</td>\n",
       "      <td>15.40</td>\n",
       "    </tr>\n",
       "    <tr>\n",
       "      <th>100</th>\n",
       "      <td>22769</td>\n",
       "      <td>14.67</td>\n",
       "    </tr>\n",
       "  </tbody>\n",
       "</table>\n",
       "<p>101 rows × 2 columns</p>\n",
       "</div>"
      ],
      "text/plain": [
       "    Postal_Code  Rental_Price\n",
       "0         20038         13.26\n",
       "1         20095         20.35\n",
       "2         20097         15.55\n",
       "3         20099         15.93\n",
       "4         20144         18.45\n",
       "..          ...           ...\n",
       "96        22761         13.68\n",
       "97        22763         14.75\n",
       "98        22765         16.26\n",
       "99        22767         15.40\n",
       "100       22769         14.67\n",
       "\n",
       "[101 rows x 2 columns]"
      ]
     },
     "execution_count": 44,
     "metadata": {},
     "output_type": "execute_result"
    }
   ],
   "source": [
    "rental_prices_df"
   ]
  },
  {
   "cell_type": "code",
   "execution_count": 45,
   "metadata": {},
   "outputs": [],
   "source": [
    "rental_prices_df.to_csv('Rental_Prices_Postal_Codes_Hamburg.csv', index=False)"
   ]
  }
 ],
 "metadata": {
  "kernelspec": {
   "display_name": "Python 3",
   "language": "python",
   "name": "python3"
  },
  "language_info": {
   "codemirror_mode": {
    "name": "ipython",
    "version": 3
   },
   "file_extension": ".py",
   "mimetype": "text/x-python",
   "name": "python",
   "nbconvert_exporter": "python",
   "pygments_lexer": "ipython3",
   "version": "3.6.10"
  }
 },
 "nbformat": 4,
 "nbformat_minor": 4
}
